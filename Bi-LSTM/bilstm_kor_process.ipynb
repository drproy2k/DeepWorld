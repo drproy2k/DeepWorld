{
 "cells": [
  {
   "cell_type": "markdown",
   "metadata": {},
   "source": [
    "# Word Embedding Vector & Dict Data Save "
   ]
  },
  {
   "cell_type": "code",
   "execution_count": 2,
   "metadata": {},
   "outputs": [
    {
     "ename": "ImportError",
     "evalue": "No module named 'hanja'",
     "traceback": [
      "\u001b[0;31m---------------------------------------------------------------------------\u001b[0m",
      "\u001b[0;31mImportError\u001b[0m                               Traceback (most recent call last)",
      "\u001b[0;32m<ipython-input-2-d9fe04d7e8e1>\u001b[0m in \u001b[0;36m<module>\u001b[0;34m()\u001b[0m\n\u001b[1;32m      1\u001b[0m \u001b[0;32mfrom\u001b[0m \u001b[0mkor_model\u001b[0m\u001b[0;34m.\u001b[0m\u001b[0mdata_crawler\u001b[0m \u001b[0;32mimport\u001b[0m \u001b[0mmecab\u001b[0m\u001b[0;34m\u001b[0m\u001b[0m\n\u001b[0;32m----> 2\u001b[0;31m \u001b[0;32mfrom\u001b[0m \u001b[0mkor_model\u001b[0m\u001b[0;34m.\u001b[0m\u001b[0mdata_embed_model\u001b[0m \u001b[0;32mimport\u001b[0m \u001b[0mbuild_data\u001b[0m\u001b[0;34m\u001b[0m\u001b[0m\n\u001b[0m\u001b[1;32m      3\u001b[0m \u001b[0;32mfrom\u001b[0m \u001b[0mkor_model\u001b[0m\u001b[0;34m.\u001b[0m\u001b[0mconfig\u001b[0m \u001b[0;32mimport\u001b[0m \u001b[0mconfig\u001b[0m\u001b[0;34m\u001b[0m\u001b[0m\n\u001b[1;32m      4\u001b[0m \u001b[0;32mfrom\u001b[0m \u001b[0mkor_model\u001b[0m\u001b[0;34m.\u001b[0m\u001b[0mner_model\u001b[0m\u001b[0;34m.\u001b[0m\u001b[0mlstmcrf_model\u001b[0m \u001b[0;32mimport\u001b[0m \u001b[0mNERModel\u001b[0m\u001b[0;34m\u001b[0m\u001b[0m\n\u001b[1;32m      5\u001b[0m \u001b[0;32mfrom\u001b[0m \u001b[0mkor_model\u001b[0m\u001b[0;34m.\u001b[0m\u001b[0mgeneral_utils\u001b[0m \u001b[0;32mimport\u001b[0m \u001b[0mget_logger\u001b[0m\u001b[0;34m\u001b[0m\u001b[0m\n",
      "\u001b[0;32m~/tensorMSA/tensormsa_jupyter/chap13_chatbot_lecture/9.Bi-LSTM CRF/kor_model/data_embed_model/build_data.py\u001b[0m in \u001b[0;36m<module>\u001b[0;34m()\u001b[0m\n\u001b[0;32m----> 1\u001b[0;31m \u001b[0;32mfrom\u001b[0m \u001b[0mkor_model\u001b[0m\u001b[0;34m.\u001b[0m\u001b[0mdata_embed_model\u001b[0m\u001b[0;34m.\u001b[0m\u001b[0mdata_utils\u001b[0m \u001b[0;32mimport\u001b[0m \u001b[0mCoNLLDataset\u001b[0m\u001b[0;34m\u001b[0m\u001b[0m\n\u001b[0m\u001b[1;32m      2\u001b[0m \u001b[0;32mfrom\u001b[0m \u001b[0mkor_model\u001b[0m\u001b[0;34m.\u001b[0m\u001b[0mconfig\u001b[0m \u001b[0;32mimport\u001b[0m \u001b[0mconfig\u001b[0m\u001b[0;34m\u001b[0m\u001b[0m\n\u001b[1;32m      3\u001b[0m \u001b[0;32mfrom\u001b[0m \u001b[0mkor_model\u001b[0m\u001b[0;34m.\u001b[0m\u001b[0mdata_embed_model\u001b[0m \u001b[0;32mimport\u001b[0m \u001b[0mword2vec\u001b[0m\u001b[0;34m\u001b[0m\u001b[0m\n\u001b[1;32m      4\u001b[0m \u001b[0;32mfrom\u001b[0m \u001b[0mkor_model\u001b[0m\u001b[0;34m.\u001b[0m\u001b[0mdata_embed_model\u001b[0m \u001b[0;32mimport\u001b[0m \u001b[0mdata_utils\u001b[0m\u001b[0;34m\u001b[0m\u001b[0m\n\u001b[1;32m      5\u001b[0m \u001b[0;34m\u001b[0m\u001b[0m\n",
      "\u001b[0;32m~/tensorMSA/tensormsa_jupyter/chap13_chatbot_lecture/9.Bi-LSTM CRF/kor_model/data_embed_model/data_utils.py\u001b[0m in \u001b[0;36m<module>\u001b[0;34m()\u001b[0m\n\u001b[1;32m      1\u001b[0m \u001b[0;31m# pip install hanja\u001b[0m\u001b[0;34m\u001b[0m\u001b[0;34m\u001b[0m\u001b[0m\n\u001b[0;32m----> 2\u001b[0;31m \u001b[0;32mfrom\u001b[0m \u001b[0mhanja\u001b[0m \u001b[0;32mimport\u001b[0m \u001b[0mhangul\u001b[0m\u001b[0;34m\u001b[0m\u001b[0m\n\u001b[0m\u001b[1;32m      3\u001b[0m \u001b[0;32mimport\u001b[0m \u001b[0mnumpy\u001b[0m \u001b[0;32mas\u001b[0m \u001b[0mnp\u001b[0m\u001b[0;34m\u001b[0m\u001b[0m\n\u001b[1;32m      4\u001b[0m \u001b[0;32mimport\u001b[0m \u001b[0mre\u001b[0m\u001b[0;34m\u001b[0m\u001b[0m\n\u001b[1;32m      5\u001b[0m \u001b[0;32mimport\u001b[0m \u001b[0mos\u001b[0m\u001b[0;34m\u001b[0m\u001b[0m\n",
      "\u001b[0;31mImportError\u001b[0m: No module named 'hanja'"
     ],
     "output_type": "error"
    }
   ],
   "source": [
    "from kor_model.data_crawler import mecab\n",
    "from kor_model.data_embed_model import build_data\n",
    "from kor_model.config import config\n",
    "from kor_model.ner_model.lstmcrf_model import NERModel\n",
    "from kor_model.general_utils import get_logger\n",
    "from kor_model.data_embed_model import data_utils\n",
    "from kor_model.data_embed_model.data_utils import CoNLLDataset\n",
    "from kor_model.data_embed_model import word2vec\n",
    "from kor_model.data_embed_model import data_utils\n",
    "import os"
   ]
  },
  {
   "cell_type": "code",
   "execution_count": 2,
   "metadata": {},
   "outputs": [
    {
     "name": "stdout",
     "output_type": "stream",
     "text": [
      "word2vec train start\n",
      "word2vec train done\n",
      "Building vocab...\n",
      "- done. 10 tokens\n",
      "Writing vocab...\n",
      "- done. 20 tokens\n",
      "Writing vocab...\n",
      "- done. 20 tokens\n",
      "Writing vocab...\n",
      "- done. 10 tokens\n",
      "Writing vocab...\n",
      "- done. 6 tokens\n"
     ]
    }
   ],
   "source": [
    "# (1) Train 파일을 Mecab 으로 Sentence Spliting & Morphing 작업 수행\n",
    "#mecab.tockenizer(config.train_filename, config.pos_path)\n",
    "\n",
    "# (2) Word2Vec 를 이용하여 단어 단위로 Embedding Vector 를 구성 \n",
    "embed_model = word2vec.train_w2v(config)\n",
    "\n",
    "\n",
    "# (3) Generators Class 생성 Iterator \n",
    "dev   = CoNLLDataset(config.dev_filename, max_iter=config.max_iter)\n",
    "test  = CoNLLDataset(config.test_filename, max_iter=config.max_iter)\n",
    "train = CoNLLDataset(config.train_filename, max_iter=config.max_iter)\n",
    "\n",
    "# (4) Data Set 에서 Word 와 Tag Distinct Value 를 추출 \n",
    "vocab_words, vocab_tags = data_utils.get_vocabs([train, dev, test])\n",
    "\n",
    "# (5) Word Embedding 에 등록된 Dict 와 훈련 Data Set 에 공통으로 있는 것만 사용 \n",
    "vocab = vocab_words & set(embed_model.wv.index2word)\n",
    "vocab.add(data_utils.UNK)\n",
    "\n",
    "# (6) 훈련 데이터에서 Char Dict 추출 \n",
    "vocab_chars = data_utils.get_char_vocab(train)\n",
    "\n",
    "# (7) 모든 Dict 리스트 및 Vector 파일을 저장함 \n",
    "# Char, Word, Tag 3가지에 대하여 Vector 변환을 위한 데이터 \n",
    "data_utils.write_char_embedding(vocab_chars, config.charembed_filename)\n",
    "data_utils.write_vocab(vocab_chars, config.chars_filename)\n",
    "data_utils.write_vocab(vocab, config.words_filename)\n",
    "data_utils.write_vocab(vocab_tags, config.tags_filename)\n",
    "data_utils.export_trimmed_glove_vectors(vocab, embed_model, config.trimmed_filename)"
   ]
  },
  {
   "cell_type": "markdown",
   "metadata": {},
   "source": [
    "# Data Object Prepare"
   ]
  },
  {
   "cell_type": "code",
   "execution_count": 3,
   "metadata": {},
   "outputs": [
    {
     "name": "stderr",
     "output_type": "stream",
     "text": [
      "/opt/conda/lib/python3.5/site-packages/tensorflow/python/ops/gradients_impl.py:93: UserWarning: Converting sparse IndexedSlices to a dense Tensor of unknown shape. This may consume a large amount of memory.\n",
      "  \"Converting sparse IndexedSlices to a dense Tensor of unknown shape. \"\n",
      "Epoch 1 out of 100\n"
     ]
    },
    {
     "name": "stdout",
     "output_type": "stream",
     "text": [
      "\r",
      "1/1 [========================>.....] - ETA: 0s - train loss: 9.5482"
     ]
    },
    {
     "name": "stderr",
     "output_type": "stream",
     "text": [
      "- dev acc 50.00 - f1 0.00\n",
      "- new best score!\n",
      "Epoch 2 out of 100\n"
     ]
    },
    {
     "name": "stdout",
     "output_type": "stream",
     "text": [
      "\r",
      "1/1 [========================>.....] - ETA: 0s - train loss: 6.9541"
     ]
    },
    {
     "name": "stderr",
     "output_type": "stream",
     "text": [
      "- dev acc 31.25 - f1 31.58\n",
      "- new best score!\n",
      "Epoch 3 out of 100\n"
     ]
    },
    {
     "name": "stdout",
     "output_type": "stream",
     "text": [
      "\r",
      "1/1 [========================>.....] - ETA: 0s - train loss: 16.9277"
     ]
    },
    {
     "name": "stderr",
     "output_type": "stream",
     "text": [
      "- dev acc 12.50 - f1 16.67\n",
      "Epoch 4 out of 100\n"
     ]
    },
    {
     "name": "stdout",
     "output_type": "stream",
     "text": [
      "\r",
      "1/1 [========================>.....] - ETA: 0s - train loss: 9.7239"
     ]
    },
    {
     "name": "stderr",
     "output_type": "stream",
     "text": [
      "- dev acc 56.25 - f1 18.18\n",
      "Epoch 5 out of 100\n"
     ]
    },
    {
     "name": "stdout",
     "output_type": "stream",
     "text": [
      "\r",
      "1/1 [========================>.....] - ETA: 0s - train loss: 7.5063"
     ]
    },
    {
     "name": "stderr",
     "output_type": "stream",
     "text": [
      "- dev acc 68.75 - f1 53.33\n",
      "- new best score!\n",
      "Epoch 6 out of 100\n"
     ]
    },
    {
     "name": "stdout",
     "output_type": "stream",
     "text": [
      "\r",
      "1/1 [========================>.....] - ETA: 0s - train loss: 6.4902"
     ]
    },
    {
     "name": "stderr",
     "output_type": "stream",
     "text": [
      "- dev acc 68.75 - f1 46.15\n",
      "Epoch 7 out of 100\n"
     ]
    },
    {
     "name": "stdout",
     "output_type": "stream",
     "text": [
      "\r",
      "1/1 [========================>.....] - ETA: 0s - train loss: 4.6104"
     ]
    },
    {
     "name": "stderr",
     "output_type": "stream",
     "text": [
      "- dev acc 81.25 - f1 76.92\n",
      "- new best score!\n",
      "Epoch 8 out of 100\n"
     ]
    },
    {
     "name": "stdout",
     "output_type": "stream",
     "text": [
      "\r",
      "1/1 [========================>.....] - ETA: 0s - train loss: 2.7826"
     ]
    },
    {
     "name": "stderr",
     "output_type": "stream",
     "text": [
      "- dev acc 100.00 - f1 100.00\n",
      "- new best score!\n",
      "Epoch 9 out of 100\n"
     ]
    },
    {
     "name": "stdout",
     "output_type": "stream",
     "text": [
      "\r",
      "1/1 [========================>.....] - ETA: 0s - train loss: 1.3723"
     ]
    },
    {
     "name": "stderr",
     "output_type": "stream",
     "text": [
      "- dev acc 100.00 - f1 100.00\n",
      "- new best score!\n",
      "Epoch 10 out of 100\n"
     ]
    },
    {
     "name": "stdout",
     "output_type": "stream",
     "text": [
      "\r",
      "1/1 [========================>.....] - ETA: 0s - train loss: 1.5216"
     ]
    },
    {
     "name": "stderr",
     "output_type": "stream",
     "text": [
      "- dev acc 100.00 - f1 100.00\n",
      "- new best score!\n",
      "Epoch 11 out of 100\n"
     ]
    },
    {
     "name": "stdout",
     "output_type": "stream",
     "text": [
      "\r",
      "1/1 [========================>.....] - ETA: 0s - train loss: 0.9813"
     ]
    },
    {
     "name": "stderr",
     "output_type": "stream",
     "text": [
      "- dev acc 100.00 - f1 100.00\n",
      "- new best score!\n",
      "Epoch 12 out of 100\n"
     ]
    },
    {
     "name": "stdout",
     "output_type": "stream",
     "text": [
      "\r",
      "1/1 [========================>.....] - ETA: 0s - train loss: 0.4581"
     ]
    },
    {
     "name": "stderr",
     "output_type": "stream",
     "text": [
      "- dev acc 100.00 - f1 100.00\n",
      "- new best score!\n",
      "Epoch 13 out of 100\n"
     ]
    },
    {
     "name": "stdout",
     "output_type": "stream",
     "text": [
      "\r",
      "1/1 [========================>.....] - ETA: 0s - train loss: 0.4127"
     ]
    },
    {
     "name": "stderr",
     "output_type": "stream",
     "text": [
      "- dev acc 100.00 - f1 100.00\n",
      "- new best score!\n",
      "Epoch 14 out of 100\n"
     ]
    },
    {
     "name": "stdout",
     "output_type": "stream",
     "text": [
      "\r",
      "1/1 [========================>.....] - ETA: 0s - train loss: 0.2332"
     ]
    },
    {
     "name": "stderr",
     "output_type": "stream",
     "text": [
      "- dev acc 100.00 - f1 100.00\n",
      "- new best score!\n",
      "Epoch 15 out of 100\n"
     ]
    },
    {
     "name": "stdout",
     "output_type": "stream",
     "text": [
      "\r",
      "1/1 [========================>.....] - ETA: 0s - train loss: 0.1102"
     ]
    },
    {
     "name": "stderr",
     "output_type": "stream",
     "text": [
      "- dev acc 100.00 - f1 100.00\n",
      "- new best score!\n",
      "Epoch 16 out of 100\n"
     ]
    },
    {
     "name": "stdout",
     "output_type": "stream",
     "text": [
      "\r",
      "1/1 [========================>.....] - ETA: 0s - train loss: 0.0859"
     ]
    },
    {
     "name": "stderr",
     "output_type": "stream",
     "text": [
      "- dev acc 100.00 - f1 100.00\n",
      "- new best score!\n",
      "Epoch 17 out of 100\n"
     ]
    },
    {
     "name": "stdout",
     "output_type": "stream",
     "text": [
      "\r",
      "1/1 [========================>.....] - ETA: 0s - train loss: 0.0688"
     ]
    },
    {
     "name": "stderr",
     "output_type": "stream",
     "text": [
      "- dev acc 100.00 - f1 100.00\n",
      "- new best score!\n",
      "Epoch 18 out of 100\n"
     ]
    },
    {
     "name": "stdout",
     "output_type": "stream",
     "text": [
      "\r",
      "1/1 [========================>.....] - ETA: 0s - train loss: 0.0434"
     ]
    },
    {
     "name": "stderr",
     "output_type": "stream",
     "text": [
      "- dev acc 100.00 - f1 100.00\n",
      "- new best score!\n",
      "Epoch 19 out of 100\n"
     ]
    },
    {
     "name": "stdout",
     "output_type": "stream",
     "text": [
      "\r",
      "1/1 [========================>.....] - ETA: 0s - train loss: 0.0463"
     ]
    },
    {
     "name": "stderr",
     "output_type": "stream",
     "text": [
      "- dev acc 100.00 - f1 100.00\n",
      "- new best score!\n",
      "Epoch 20 out of 100\n"
     ]
    },
    {
     "name": "stdout",
     "output_type": "stream",
     "text": [
      "\r",
      "1/1 [========================>.....] - ETA: 0s - train loss: 0.0764"
     ]
    },
    {
     "name": "stderr",
     "output_type": "stream",
     "text": [
      "- dev acc 100.00 - f1 100.00\n",
      "- new best score!\n",
      "Epoch 21 out of 100\n"
     ]
    },
    {
     "name": "stdout",
     "output_type": "stream",
     "text": [
      "\r",
      "1/1 [========================>.....] - ETA: 0s - train loss: 0.0950"
     ]
    },
    {
     "name": "stderr",
     "output_type": "stream",
     "text": [
      "- dev acc 100.00 - f1 100.00\n",
      "- new best score!\n",
      "Epoch 22 out of 100\n"
     ]
    },
    {
     "name": "stdout",
     "output_type": "stream",
     "text": [
      "\r",
      "1/1 [========================>.....] - ETA: 0s - train loss: 0.0156"
     ]
    },
    {
     "name": "stderr",
     "output_type": "stream",
     "text": [
      "- dev acc 100.00 - f1 100.00\n",
      "- new best score!\n",
      "Epoch 23 out of 100\n"
     ]
    },
    {
     "name": "stdout",
     "output_type": "stream",
     "text": [
      "\r",
      "1/1 [========================>.....] - ETA: 0s - train loss: 0.0259"
     ]
    },
    {
     "name": "stderr",
     "output_type": "stream",
     "text": [
      "- dev acc 100.00 - f1 100.00\n",
      "- new best score!\n",
      "Epoch 24 out of 100\n"
     ]
    },
    {
     "name": "stdout",
     "output_type": "stream",
     "text": [
      "\r",
      "1/1 [========================>.....] - ETA: 0s - train loss: 0.0188"
     ]
    },
    {
     "name": "stderr",
     "output_type": "stream",
     "text": [
      "- dev acc 100.00 - f1 100.00\n",
      "- new best score!\n",
      "Epoch 25 out of 100\n"
     ]
    },
    {
     "name": "stdout",
     "output_type": "stream",
     "text": [
      "\r",
      "1/1 [========================>.....] - ETA: 0s - train loss: 0.0185"
     ]
    },
    {
     "name": "stderr",
     "output_type": "stream",
     "text": [
      "- dev acc 100.00 - f1 100.00\n",
      "- new best score!\n",
      "Epoch 26 out of 100\n"
     ]
    },
    {
     "name": "stdout",
     "output_type": "stream",
     "text": [
      "\r",
      "1/1 [========================>.....] - ETA: 0s - train loss: 0.0098"
     ]
    },
    {
     "name": "stderr",
     "output_type": "stream",
     "text": [
      "- dev acc 100.00 - f1 100.00\n",
      "- new best score!\n",
      "Epoch 27 out of 100\n"
     ]
    },
    {
     "name": "stdout",
     "output_type": "stream",
     "text": [
      "\r",
      "1/1 [========================>.....] - ETA: 0s - train loss: 0.0143"
     ]
    },
    {
     "name": "stderr",
     "output_type": "stream",
     "text": [
      "- dev acc 100.00 - f1 100.00\n",
      "- new best score!\n",
      "Epoch 28 out of 100\n"
     ]
    },
    {
     "name": "stdout",
     "output_type": "stream",
     "text": [
      "\r",
      "1/1 [========================>.....] - ETA: 0s - train loss: 0.0549"
     ]
    },
    {
     "name": "stderr",
     "output_type": "stream",
     "text": [
      "- dev acc 100.00 - f1 100.00\n",
      "- new best score!\n",
      "Epoch 29 out of 100\n"
     ]
    },
    {
     "name": "stdout",
     "output_type": "stream",
     "text": [
      "\r",
      "1/1 [========================>.....] - ETA: 0s - train loss: 0.0146"
     ]
    },
    {
     "name": "stderr",
     "output_type": "stream",
     "text": [
      "- dev acc 100.00 - f1 100.00\n",
      "- new best score!\n",
      "Epoch 30 out of 100\n"
     ]
    },
    {
     "name": "stdout",
     "output_type": "stream",
     "text": [
      "\r",
      "1/1 [========================>.....] - ETA: 0s - train loss: 0.0153"
     ]
    },
    {
     "name": "stderr",
     "output_type": "stream",
     "text": [
      "- dev acc 100.00 - f1 100.00\n",
      "- new best score!\n",
      "Epoch 31 out of 100\n"
     ]
    },
    {
     "name": "stdout",
     "output_type": "stream",
     "text": [
      "\r",
      "1/1 [========================>.....] - ETA: 0s - train loss: 0.0099"
     ]
    },
    {
     "name": "stderr",
     "output_type": "stream",
     "text": [
      "- dev acc 100.00 - f1 100.00\n",
      "- new best score!\n",
      "Epoch 32 out of 100\n"
     ]
    },
    {
     "name": "stdout",
     "output_type": "stream",
     "text": [
      "\r",
      "1/1 [========================>.....] - ETA: 0s - train loss: 0.0176"
     ]
    },
    {
     "name": "stderr",
     "output_type": "stream",
     "text": [
      "- dev acc 100.00 - f1 100.00\n",
      "- new best score!\n",
      "Epoch 33 out of 100\n"
     ]
    },
    {
     "name": "stdout",
     "output_type": "stream",
     "text": [
      "\r",
      "1/1 [========================>.....] - ETA: 0s - train loss: 0.0123"
     ]
    },
    {
     "name": "stderr",
     "output_type": "stream",
     "text": [
      "- dev acc 100.00 - f1 100.00\n",
      "- new best score!\n",
      "Epoch 34 out of 100\n"
     ]
    },
    {
     "name": "stdout",
     "output_type": "stream",
     "text": [
      "\r",
      "1/1 [========================>.....] - ETA: 0s - train loss: 0.0068"
     ]
    },
    {
     "name": "stderr",
     "output_type": "stream",
     "text": [
      "- dev acc 100.00 - f1 100.00\n",
      "- new best score!\n",
      "Epoch 35 out of 100\n"
     ]
    },
    {
     "name": "stdout",
     "output_type": "stream",
     "text": [
      "\r",
      "1/1 [========================>.....] - ETA: 0s - train loss: 0.0097"
     ]
    },
    {
     "name": "stderr",
     "output_type": "stream",
     "text": [
      "- dev acc 100.00 - f1 100.00\n",
      "- new best score!\n",
      "Epoch 36 out of 100\n"
     ]
    },
    {
     "name": "stdout",
     "output_type": "stream",
     "text": [
      "\r",
      "1/1 [========================>.....] - ETA: 0s - train loss: 0.0285"
     ]
    },
    {
     "name": "stderr",
     "output_type": "stream",
     "text": [
      "- dev acc 100.00 - f1 100.00\n",
      "- new best score!\n",
      "Epoch 37 out of 100\n"
     ]
    },
    {
     "name": "stdout",
     "output_type": "stream",
     "text": [
      "\r",
      "1/1 [========================>.....] - ETA: 0s - train loss: 0.0068"
     ]
    },
    {
     "name": "stderr",
     "output_type": "stream",
     "text": [
      "- dev acc 100.00 - f1 100.00\n",
      "- new best score!\n",
      "Epoch 38 out of 100\n"
     ]
    },
    {
     "name": "stdout",
     "output_type": "stream",
     "text": [
      "\r",
      "1/1 [========================>.....] - ETA: 0s - train loss: 0.0130"
     ]
    },
    {
     "name": "stderr",
     "output_type": "stream",
     "text": [
      "- dev acc 100.00 - f1 100.00\n",
      "- new best score!\n",
      "Epoch 39 out of 100\n"
     ]
    },
    {
     "name": "stdout",
     "output_type": "stream",
     "text": [
      "\r",
      "1/1 [========================>.....] - ETA: 0s - train loss: 0.0079"
     ]
    },
    {
     "name": "stderr",
     "output_type": "stream",
     "text": [
      "- dev acc 100.00 - f1 100.00\n",
      "- new best score!\n",
      "Epoch 40 out of 100\n"
     ]
    },
    {
     "name": "stdout",
     "output_type": "stream",
     "text": [
      "\r",
      "1/1 [========================>.....] - ETA: 0s - train loss: 0.0119"
     ]
    },
    {
     "name": "stderr",
     "output_type": "stream",
     "text": [
      "- dev acc 100.00 - f1 100.00\n",
      "- new best score!\n",
      "Epoch 41 out of 100\n"
     ]
    },
    {
     "name": "stdout",
     "output_type": "stream",
     "text": [
      "\r",
      "1/1 [========================>.....] - ETA: 0s - train loss: 0.0180"
     ]
    },
    {
     "name": "stderr",
     "output_type": "stream",
     "text": [
      "- dev acc 100.00 - f1 100.00\n",
      "- new best score!\n",
      "Epoch 42 out of 100\n"
     ]
    },
    {
     "name": "stdout",
     "output_type": "stream",
     "text": [
      "\r",
      "1/1 [========================>.....] - ETA: 0s - train loss: 0.0480"
     ]
    },
    {
     "name": "stderr",
     "output_type": "stream",
     "text": [
      "- dev acc 100.00 - f1 100.00\n",
      "- new best score!\n",
      "Epoch 43 out of 100\n"
     ]
    },
    {
     "name": "stdout",
     "output_type": "stream",
     "text": [
      "\r",
      "1/1 [========================>.....] - ETA: 0s - train loss: 0.0136"
     ]
    },
    {
     "name": "stderr",
     "output_type": "stream",
     "text": [
      "- dev acc 100.00 - f1 100.00\n",
      "- new best score!\n",
      "Epoch 44 out of 100\n"
     ]
    },
    {
     "name": "stdout",
     "output_type": "stream",
     "text": [
      "\r",
      "1/1 [========================>.....] - ETA: 0s - train loss: 0.0102"
     ]
    },
    {
     "name": "stderr",
     "output_type": "stream",
     "text": [
      "- dev acc 100.00 - f1 100.00\n",
      "- new best score!\n",
      "Epoch 45 out of 100\n"
     ]
    },
    {
     "name": "stdout",
     "output_type": "stream",
     "text": [
      "\r",
      "1/1 [========================>.....] - ETA: 0s - train loss: 0.0151"
     ]
    },
    {
     "name": "stderr",
     "output_type": "stream",
     "text": [
      "- dev acc 100.00 - f1 100.00\n",
      "- new best score!\n",
      "Epoch 46 out of 100\n"
     ]
    },
    {
     "name": "stdout",
     "output_type": "stream",
     "text": [
      "\r",
      "1/1 [========================>.....] - ETA: 0s - train loss: 0.0137"
     ]
    },
    {
     "name": "stderr",
     "output_type": "stream",
     "text": [
      "- dev acc 100.00 - f1 100.00\n",
      "- new best score!\n",
      "Epoch 47 out of 100\n"
     ]
    },
    {
     "name": "stdout",
     "output_type": "stream",
     "text": [
      "\r",
      "1/1 [========================>.....] - ETA: 0s - train loss: 0.0136"
     ]
    },
    {
     "name": "stderr",
     "output_type": "stream",
     "text": [
      "- dev acc 100.00 - f1 100.00\n",
      "- new best score!\n",
      "Epoch 48 out of 100\n"
     ]
    },
    {
     "name": "stdout",
     "output_type": "stream",
     "text": [
      "\r",
      "1/1 [========================>.....] - ETA: 0s - train loss: 0.0175"
     ]
    },
    {
     "name": "stderr",
     "output_type": "stream",
     "text": [
      "- dev acc 100.00 - f1 100.00\n",
      "- new best score!\n",
      "Epoch 49 out of 100\n"
     ]
    },
    {
     "name": "stdout",
     "output_type": "stream",
     "text": [
      "\r",
      "1/1 [========================>.....] - ETA: 0s - train loss: 0.0101"
     ]
    },
    {
     "name": "stderr",
     "output_type": "stream",
     "text": [
      "- dev acc 100.00 - f1 100.00\n",
      "- new best score!\n",
      "Epoch 50 out of 100\n"
     ]
    },
    {
     "name": "stdout",
     "output_type": "stream",
     "text": [
      "\r",
      "1/1 [========================>.....] - ETA: 0s - train loss: 0.0079"
     ]
    },
    {
     "name": "stderr",
     "output_type": "stream",
     "text": [
      "- dev acc 100.00 - f1 100.00\n",
      "- new best score!\n",
      "Epoch 51 out of 100\n"
     ]
    },
    {
     "name": "stdout",
     "output_type": "stream",
     "text": [
      "\r",
      "1/1 [========================>.....] - ETA: 0s - train loss: 0.0156"
     ]
    },
    {
     "name": "stderr",
     "output_type": "stream",
     "text": [
      "- dev acc 100.00 - f1 100.00\n",
      "- new best score!\n",
      "Epoch 52 out of 100\n"
     ]
    },
    {
     "name": "stdout",
     "output_type": "stream",
     "text": [
      "\r",
      "1/1 [========================>.....] - ETA: 0s - train loss: 0.0102"
     ]
    },
    {
     "name": "stderr",
     "output_type": "stream",
     "text": [
      "- dev acc 100.00 - f1 100.00\n",
      "- new best score!\n",
      "Epoch 53 out of 100\n"
     ]
    },
    {
     "name": "stdout",
     "output_type": "stream",
     "text": [
      "\r",
      "1/1 [========================>.....] - ETA: 0s - train loss: 0.0173"
     ]
    },
    {
     "name": "stderr",
     "output_type": "stream",
     "text": [
      "- dev acc 100.00 - f1 100.00\n",
      "- new best score!\n",
      "Epoch 54 out of 100\n"
     ]
    },
    {
     "name": "stdout",
     "output_type": "stream",
     "text": [
      "\r",
      "1/1 [========================>.....] - ETA: 0s - train loss: 0.0139"
     ]
    },
    {
     "name": "stderr",
     "output_type": "stream",
     "text": [
      "- dev acc 100.00 - f1 100.00\n",
      "- new best score!\n",
      "Epoch 55 out of 100\n"
     ]
    },
    {
     "name": "stdout",
     "output_type": "stream",
     "text": [
      "\r",
      "1/1 [========================>.....] - ETA: 0s - train loss: 0.0237"
     ]
    },
    {
     "name": "stderr",
     "output_type": "stream",
     "text": [
      "- dev acc 100.00 - f1 100.00\n",
      "- new best score!\n",
      "Epoch 56 out of 100\n"
     ]
    },
    {
     "name": "stdout",
     "output_type": "stream",
     "text": [
      "\r",
      "1/1 [========================>.....] - ETA: 0s - train loss: 0.0217"
     ]
    },
    {
     "name": "stderr",
     "output_type": "stream",
     "text": [
      "- dev acc 100.00 - f1 100.00\n",
      "- new best score!\n",
      "Epoch 57 out of 100\n"
     ]
    },
    {
     "name": "stdout",
     "output_type": "stream",
     "text": [
      "\r",
      "1/1 [========================>.....] - ETA: 0s - train loss: 0.0068"
     ]
    },
    {
     "name": "stderr",
     "output_type": "stream",
     "text": [
      "- dev acc 100.00 - f1 100.00\n",
      "- new best score!\n",
      "Epoch 58 out of 100\n"
     ]
    },
    {
     "name": "stdout",
     "output_type": "stream",
     "text": [
      "\r",
      "1/1 [========================>.....] - ETA: 0s - train loss: 0.0113"
     ]
    },
    {
     "name": "stderr",
     "output_type": "stream",
     "text": [
      "- dev acc 100.00 - f1 100.00\n",
      "- new best score!\n",
      "Epoch 59 out of 100\n"
     ]
    },
    {
     "name": "stdout",
     "output_type": "stream",
     "text": [
      "\r",
      "1/1 [========================>.....] - ETA: 0s - train loss: 0.0111"
     ]
    },
    {
     "name": "stderr",
     "output_type": "stream",
     "text": [
      "- dev acc 100.00 - f1 100.00\n",
      "- new best score!\n",
      "Epoch 60 out of 100\n"
     ]
    },
    {
     "name": "stdout",
     "output_type": "stream",
     "text": [
      "\r",
      "1/1 [========================>.....] - ETA: 0s - train loss: 0.0286"
     ]
    },
    {
     "name": "stderr",
     "output_type": "stream",
     "text": [
      "- dev acc 100.00 - f1 100.00\n",
      "- new best score!\n",
      "Epoch 61 out of 100\n"
     ]
    },
    {
     "name": "stdout",
     "output_type": "stream",
     "text": [
      "\r",
      "1/1 [========================>.....] - ETA: 0s - train loss: 0.0229"
     ]
    },
    {
     "name": "stderr",
     "output_type": "stream",
     "text": [
      "- dev acc 100.00 - f1 100.00\n",
      "- new best score!\n",
      "Epoch 62 out of 100\n"
     ]
    },
    {
     "name": "stdout",
     "output_type": "stream",
     "text": [
      "\r",
      "1/1 [========================>.....] - ETA: 0s - train loss: 0.0139"
     ]
    },
    {
     "name": "stderr",
     "output_type": "stream",
     "text": [
      "- dev acc 100.00 - f1 100.00\n",
      "- new best score!\n",
      "Epoch 63 out of 100\n"
     ]
    },
    {
     "name": "stdout",
     "output_type": "stream",
     "text": [
      "\r",
      "1/1 [========================>.....] - ETA: 0s - train loss: 0.0148"
     ]
    },
    {
     "name": "stderr",
     "output_type": "stream",
     "text": [
      "- dev acc 100.00 - f1 100.00\n",
      "- new best score!\n",
      "Epoch 64 out of 100\n"
     ]
    },
    {
     "name": "stdout",
     "output_type": "stream",
     "text": [
      "\r",
      "1/1 [========================>.....] - ETA: 0s - train loss: 0.0135"
     ]
    },
    {
     "name": "stderr",
     "output_type": "stream",
     "text": [
      "- dev acc 100.00 - f1 100.00\n",
      "- new best score!\n",
      "Epoch 65 out of 100\n"
     ]
    },
    {
     "name": "stdout",
     "output_type": "stream",
     "text": [
      "\r",
      "1/1 [========================>.....] - ETA: 0s - train loss: 0.0221"
     ]
    },
    {
     "name": "stderr",
     "output_type": "stream",
     "text": [
      "- dev acc 100.00 - f1 100.00\n",
      "- new best score!\n",
      "Epoch 66 out of 100\n"
     ]
    },
    {
     "name": "stdout",
     "output_type": "stream",
     "text": [
      "\r",
      "1/1 [========================>.....] - ETA: 0s - train loss: 0.0060"
     ]
    },
    {
     "name": "stderr",
     "output_type": "stream",
     "text": [
      "- dev acc 100.00 - f1 100.00\n",
      "- new best score!\n",
      "Epoch 67 out of 100\n"
     ]
    },
    {
     "name": "stdout",
     "output_type": "stream",
     "text": [
      "\r",
      "1/1 [========================>.....] - ETA: 0s - train loss: 0.0099"
     ]
    },
    {
     "name": "stderr",
     "output_type": "stream",
     "text": [
      "- dev acc 100.00 - f1 100.00\n",
      "- new best score!\n",
      "Epoch 68 out of 100\n"
     ]
    },
    {
     "name": "stdout",
     "output_type": "stream",
     "text": [
      "\r",
      "1/1 [========================>.....] - ETA: 0s - train loss: 0.0093"
     ]
    },
    {
     "name": "stderr",
     "output_type": "stream",
     "text": [
      "- dev acc 100.00 - f1 100.00\n",
      "- new best score!\n",
      "Epoch 69 out of 100\n"
     ]
    },
    {
     "name": "stdout",
     "output_type": "stream",
     "text": [
      "\r",
      "1/1 [========================>.....] - ETA: 0s - train loss: 0.0111"
     ]
    },
    {
     "name": "stderr",
     "output_type": "stream",
     "text": [
      "- dev acc 100.00 - f1 100.00\n",
      "- new best score!\n",
      "Epoch 70 out of 100\n"
     ]
    },
    {
     "name": "stdout",
     "output_type": "stream",
     "text": [
      "\r",
      "1/1 [========================>.....] - ETA: 0s - train loss: 0.0215"
     ]
    },
    {
     "name": "stderr",
     "output_type": "stream",
     "text": [
      "- dev acc 100.00 - f1 100.00\n",
      "- new best score!\n",
      "Epoch 71 out of 100\n"
     ]
    },
    {
     "name": "stdout",
     "output_type": "stream",
     "text": [
      "\r",
      "1/1 [========================>.....] - ETA: 0s - train loss: 0.0135"
     ]
    },
    {
     "name": "stderr",
     "output_type": "stream",
     "text": [
      "- dev acc 100.00 - f1 100.00\n",
      "- new best score!\n",
      "Epoch 72 out of 100\n"
     ]
    },
    {
     "name": "stdout",
     "output_type": "stream",
     "text": [
      "\r",
      "1/1 [========================>.....] - ETA: 0s - train loss: 0.0041"
     ]
    },
    {
     "name": "stderr",
     "output_type": "stream",
     "text": [
      "- dev acc 100.00 - f1 100.00\n",
      "- new best score!\n",
      "Epoch 73 out of 100\n"
     ]
    },
    {
     "name": "stdout",
     "output_type": "stream",
     "text": [
      "\r",
      "1/1 [========================>.....] - ETA: 0s - train loss: 0.0079"
     ]
    },
    {
     "name": "stderr",
     "output_type": "stream",
     "text": [
      "- dev acc 100.00 - f1 100.00\n",
      "- new best score!\n",
      "Epoch 74 out of 100\n"
     ]
    },
    {
     "name": "stdout",
     "output_type": "stream",
     "text": [
      "\r",
      "1/1 [========================>.....] - ETA: 0s - train loss: 0.0136"
     ]
    },
    {
     "name": "stderr",
     "output_type": "stream",
     "text": [
      "- dev acc 100.00 - f1 100.00\n",
      "- new best score!\n",
      "Epoch 75 out of 100\n"
     ]
    },
    {
     "name": "stdout",
     "output_type": "stream",
     "text": [
      "\r",
      "1/1 [========================>.....] - ETA: 0s - train loss: 0.0283"
     ]
    },
    {
     "name": "stderr",
     "output_type": "stream",
     "text": [
      "- dev acc 100.00 - f1 100.00\n",
      "- new best score!\n",
      "Epoch 76 out of 100\n"
     ]
    },
    {
     "name": "stdout",
     "output_type": "stream",
     "text": [
      "\r",
      "1/1 [========================>.....] - ETA: 0s - train loss: 0.0104"
     ]
    },
    {
     "name": "stderr",
     "output_type": "stream",
     "text": [
      "- dev acc 100.00 - f1 100.00\n",
      "- new best score!\n",
      "Epoch 77 out of 100\n"
     ]
    },
    {
     "name": "stdout",
     "output_type": "stream",
     "text": [
      "\r",
      "1/1 [========================>.....] - ETA: 0s - train loss: 0.0111"
     ]
    },
    {
     "name": "stderr",
     "output_type": "stream",
     "text": [
      "- dev acc 100.00 - f1 100.00\n",
      "- new best score!\n",
      "Epoch 78 out of 100\n"
     ]
    },
    {
     "name": "stdout",
     "output_type": "stream",
     "text": [
      "\r",
      "1/1 [========================>.....] - ETA: 0s - train loss: 0.0131"
     ]
    },
    {
     "name": "stderr",
     "output_type": "stream",
     "text": [
      "- dev acc 100.00 - f1 100.00\n",
      "- new best score!\n",
      "Epoch 79 out of 100\n"
     ]
    },
    {
     "name": "stdout",
     "output_type": "stream",
     "text": [
      "\r",
      "1/1 [========================>.....] - ETA: 0s - train loss: 0.0100"
     ]
    },
    {
     "name": "stderr",
     "output_type": "stream",
     "text": [
      "- dev acc 100.00 - f1 100.00\n",
      "- new best score!\n",
      "Epoch 80 out of 100\n"
     ]
    },
    {
     "name": "stdout",
     "output_type": "stream",
     "text": [
      "\r",
      "1/1 [========================>.....] - ETA: 0s - train loss: 0.0246"
     ]
    },
    {
     "name": "stderr",
     "output_type": "stream",
     "text": [
      "- dev acc 100.00 - f1 100.00\n",
      "- new best score!\n",
      "Epoch 81 out of 100\n"
     ]
    },
    {
     "name": "stdout",
     "output_type": "stream",
     "text": [
      "\r",
      "1/1 [========================>.....] - ETA: 0s - train loss: 0.0089"
     ]
    },
    {
     "name": "stderr",
     "output_type": "stream",
     "text": [
      "- dev acc 100.00 - f1 100.00\n",
      "- new best score!\n",
      "Epoch 82 out of 100\n"
     ]
    },
    {
     "name": "stdout",
     "output_type": "stream",
     "text": [
      "\r",
      "1/1 [========================>.....] - ETA: 0s - train loss: 0.0103"
     ]
    },
    {
     "name": "stderr",
     "output_type": "stream",
     "text": [
      "- dev acc 100.00 - f1 100.00\n",
      "- new best score!\n",
      "Epoch 83 out of 100\n"
     ]
    },
    {
     "name": "stdout",
     "output_type": "stream",
     "text": [
      "\r",
      "1/1 [========================>.....] - ETA: 0s - train loss: 0.0076"
     ]
    },
    {
     "name": "stderr",
     "output_type": "stream",
     "text": [
      "- dev acc 100.00 - f1 100.00\n",
      "- new best score!\n",
      "Epoch 84 out of 100\n"
     ]
    },
    {
     "name": "stdout",
     "output_type": "stream",
     "text": [
      "\r",
      "1/1 [========================>.....] - ETA: 0s - train loss: 0.0178"
     ]
    },
    {
     "name": "stderr",
     "output_type": "stream",
     "text": [
      "- dev acc 100.00 - f1 100.00\n",
      "- new best score!\n",
      "Epoch 85 out of 100\n"
     ]
    },
    {
     "name": "stdout",
     "output_type": "stream",
     "text": [
      "\r",
      "1/1 [========================>.....] - ETA: 0s - train loss: 0.0094"
     ]
    },
    {
     "name": "stderr",
     "output_type": "stream",
     "text": [
      "- dev acc 100.00 - f1 100.00\n",
      "- new best score!\n",
      "Epoch 86 out of 100\n"
     ]
    },
    {
     "name": "stdout",
     "output_type": "stream",
     "text": [
      "\r",
      "1/1 [========================>.....] - ETA: 0s - train loss: 0.0080"
     ]
    },
    {
     "name": "stderr",
     "output_type": "stream",
     "text": [
      "- dev acc 100.00 - f1 100.00\n",
      "- new best score!\n",
      "Epoch 87 out of 100\n"
     ]
    },
    {
     "name": "stdout",
     "output_type": "stream",
     "text": [
      "\r",
      "1/1 [========================>.....] - ETA: 0s - train loss: 0.0088"
     ]
    },
    {
     "name": "stderr",
     "output_type": "stream",
     "text": [
      "- dev acc 100.00 - f1 100.00\n",
      "- new best score!\n",
      "Epoch 88 out of 100\n"
     ]
    },
    {
     "name": "stdout",
     "output_type": "stream",
     "text": [
      "\r",
      "1/1 [========================>.....] - ETA: 0s - train loss: 0.0056"
     ]
    },
    {
     "name": "stderr",
     "output_type": "stream",
     "text": [
      "- dev acc 100.00 - f1 100.00\n",
      "- new best score!\n",
      "Epoch 89 out of 100\n"
     ]
    },
    {
     "name": "stdout",
     "output_type": "stream",
     "text": [
      "\r",
      "1/1 [========================>.....] - ETA: 0s - train loss: 0.0055"
     ]
    },
    {
     "name": "stderr",
     "output_type": "stream",
     "text": [
      "- dev acc 100.00 - f1 100.00\n",
      "- new best score!\n",
      "Epoch 90 out of 100\n"
     ]
    },
    {
     "name": "stdout",
     "output_type": "stream",
     "text": [
      "\r",
      "1/1 [========================>.....] - ETA: 0s - train loss: 0.0083"
     ]
    },
    {
     "name": "stderr",
     "output_type": "stream",
     "text": [
      "- dev acc 100.00 - f1 100.00\n",
      "- new best score!\n",
      "Epoch 91 out of 100\n"
     ]
    },
    {
     "name": "stdout",
     "output_type": "stream",
     "text": [
      "\r",
      "1/1 [========================>.....] - ETA: 0s - train loss: 0.0159"
     ]
    },
    {
     "name": "stderr",
     "output_type": "stream",
     "text": [
      "- dev acc 100.00 - f1 100.00\n",
      "- new best score!\n",
      "Epoch 92 out of 100\n"
     ]
    },
    {
     "name": "stdout",
     "output_type": "stream",
     "text": [
      "\r",
      "1/1 [========================>.....] - ETA: 0s - train loss: 0.0105"
     ]
    },
    {
     "name": "stderr",
     "output_type": "stream",
     "text": [
      "- dev acc 100.00 - f1 100.00\n",
      "- new best score!\n",
      "Epoch 93 out of 100\n"
     ]
    },
    {
     "name": "stdout",
     "output_type": "stream",
     "text": [
      "\r",
      "1/1 [========================>.....] - ETA: 0s - train loss: 0.0285"
     ]
    },
    {
     "name": "stderr",
     "output_type": "stream",
     "text": [
      "- dev acc 100.00 - f1 100.00\n",
      "- new best score!\n",
      "Epoch 94 out of 100\n"
     ]
    },
    {
     "name": "stdout",
     "output_type": "stream",
     "text": [
      "\r",
      "1/1 [========================>.....] - ETA: 0s - train loss: 0.0091"
     ]
    },
    {
     "name": "stderr",
     "output_type": "stream",
     "text": [
      "- dev acc 100.00 - f1 100.00\n",
      "- new best score!\n",
      "Epoch 95 out of 100\n"
     ]
    },
    {
     "name": "stdout",
     "output_type": "stream",
     "text": [
      "\r",
      "1/1 [========================>.....] - ETA: 0s - train loss: 0.0109"
     ]
    },
    {
     "name": "stderr",
     "output_type": "stream",
     "text": [
      "- dev acc 100.00 - f1 100.00\n",
      "- new best score!\n",
      "Epoch 96 out of 100\n"
     ]
    },
    {
     "name": "stdout",
     "output_type": "stream",
     "text": [
      "\r",
      "1/1 [========================>.....] - ETA: 0s - train loss: 0.0129"
     ]
    },
    {
     "name": "stderr",
     "output_type": "stream",
     "text": [
      "- dev acc 100.00 - f1 100.00\n",
      "- new best score!\n",
      "Epoch 97 out of 100\n"
     ]
    },
    {
     "name": "stdout",
     "output_type": "stream",
     "text": [
      "\r",
      "1/1 [========================>.....] - ETA: 0s - train loss: 0.0131"
     ]
    },
    {
     "name": "stderr",
     "output_type": "stream",
     "text": [
      "- dev acc 100.00 - f1 100.00\n",
      "- new best score!\n",
      "Epoch 98 out of 100\n"
     ]
    },
    {
     "name": "stdout",
     "output_type": "stream",
     "text": [
      "\r",
      "1/1 [========================>.....] - ETA: 0s - train loss: 0.0172"
     ]
    },
    {
     "name": "stderr",
     "output_type": "stream",
     "text": [
      "- dev acc 100.00 - f1 100.00\n",
      "- new best score!\n",
      "Epoch 99 out of 100\n"
     ]
    },
    {
     "name": "stdout",
     "output_type": "stream",
     "text": [
      "\r",
      "1/1 [========================>.....] - ETA: 0s - train loss: 0.0299"
     ]
    },
    {
     "name": "stderr",
     "output_type": "stream",
     "text": [
      "- dev acc 100.00 - f1 100.00\n",
      "- new best score!\n",
      "Epoch 100 out of 100\n"
     ]
    },
    {
     "name": "stdout",
     "output_type": "stream",
     "text": [
      "\r",
      "1/1 [========================>.....] - ETA: 0s - train loss: 0.0043"
     ]
    },
    {
     "name": "stderr",
     "output_type": "stream",
     "text": [
      "- dev acc 100.00 - f1 100.00\n",
      "- new best score!\n",
      "Testing model over test set\n"
     ]
    },
    {
     "name": "stdout",
     "output_type": "stream",
     "text": [
      "INFO:tensorflow:Restoring parameters from results/crf4/model.weights/\n"
     ]
    },
    {
     "name": "stderr",
     "output_type": "stream",
     "text": [
      "Restoring parameters from results/crf4/model.weights/\n",
      "- test acc 100.00 - f1 100.00\n"
     ]
    }
   ],
   "source": [
    "# (8) 위에서 저장한 파일들을 로드\n",
    "embeddings = data_utils.get_trimmed_glove_vectors(config.trimmed_filename)\n",
    "char_embedding = data_utils.get_trimmed_glove_vectors(config.charembed_filename)\n",
    "vocab_words = data_utils.load_vocab(config.words_filename)\n",
    "vocab_tags = data_utils.load_vocab(config.tags_filename)\n",
    "vocab_chars = data_utils.load_vocab(config.chars_filename)\n",
    "\n",
    "# (9) 데이터 필터링 작업을 위한 Method \n",
    "processing_word = data_utils.get_processing_word(vocab_words,\n",
    "                                                 vocab_chars,\n",
    "                                                 lowercase=config.lowercase,\n",
    "                                                 chars=config.chars)\n",
    "processing_tag = data_utils.get_processing_word(vocab_tags,\n",
    "                                                lowercase=False)\n",
    "\n",
    "# 최종적으로 훈련에 사용하는 데이터 객체 (Iterator)\n",
    "dev = CoNLLDataset(config.dev_filename, processing_word, processing_tag, config.max_iter)\n",
    "test = CoNLLDataset(config.test_filename, processing_word, processing_tag, config.max_iter)\n",
    "train = CoNLLDataset(config.train_filename, processing_word, processing_tag, config.max_iter)\n",
    "\n",
    "# build model\n",
    "model = NERModel(config, embeddings, ntags=len(vocab_tags),nchars=len(vocab_chars), logger=None, char_embed=char_embedding)\n",
    "model.build()\n",
    "model.train(train, dev, vocab_tags)\n",
    "model.evaluate(test, vocab_tags)\n"
   ]
  },
  {
   "cell_type": "markdown",
   "metadata": {},
   "source": [
    "# Prediction Test"
   ]
  },
  {
   "cell_type": "code",
   "execution_count": 4,
   "metadata": {},
   "outputs": [
    {
     "name": "stdout",
     "output_type": "stream",
     "text": [
      "INFO:tensorflow:Restoring parameters from results/crf4/model.weights/\n"
     ]
    },
    {
     "name": "stderr",
     "output_type": "stream",
     "text": [
      "Restoring parameters from results/crf4/model.weights/\n"
     ]
    },
    {
     "name": "stdout",
     "output_type": "stream",
     "text": [
      "['오늘', '날짜', '호텔', '예약', '줄레']\n",
      "['B-DATE', 'O', 'B-HOTEL', 'O', 'O']\n",
      "INFO:tensorflow:Restoring parameters from results/crf4/model.weights/\n"
     ]
    },
    {
     "name": "stderr",
     "output_type": "stream",
     "text": [
      "Restoring parameters from results/crf4/model.weights/\n"
     ]
    },
    {
     "name": "stdout",
     "output_type": "stream",
     "text": [
      "['판교', '오늘', '피자', '주문', '줄레']\n",
      "['B-LOC', 'B-DATE', 'B-MENU', 'O', 'O']\n",
      "INFO:tensorflow:Restoring parameters from results/crf4/model.weights/\n"
     ]
    },
    {
     "name": "stderr",
     "output_type": "stream",
     "text": [
      "Restoring parameters from results/crf4/model.weights/\n"
     ]
    },
    {
     "name": "stdout",
     "output_type": "stream",
     "text": [
      "['오늘', '날짜', '판교', '여행', '정보', '줄레']\n",
      "['B-DATE', 'O', 'B-LOC', 'B-TRAVEL', 'O', 'O']\n"
     ]
    }
   ],
   "source": [
    "model.predict(vocab_tags, processing_word, \"오늘 날짜 호텔 예약 줄레\")\n",
    "model.predict(vocab_tags, processing_word, \"판교 오늘 피자 주문 줄레\")\n",
    "model.predict(vocab_tags, processing_word, \"오늘 날짜 판교 여행 정보 줄레\")\n"
   ]
  },
  {
   "cell_type": "code",
   "execution_count": null,
   "metadata": {
    "collapsed": true
   },
   "outputs": [],
   "source": []
  }
 ],
 "metadata": {
  "anaconda-cloud": {},
  "kernelspec": {
   "display_name": "Python 3",
   "language": "python",
   "name": "python3"
  },
  "language_info": {
   "codemirror_mode": {
    "name": "ipython",
    "version": 3
   },
   "file_extension": ".py",
   "mimetype": "text/x-python",
   "name": "python",
   "nbconvert_exporter": "python",
   "pygments_lexer": "ipython3",
   "version": "3.5.4"
  }
 },
 "nbformat": 4,
 "nbformat_minor": 1
}
